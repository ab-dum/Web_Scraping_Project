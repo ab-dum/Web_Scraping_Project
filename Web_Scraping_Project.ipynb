{
 "cells": [
  {
   "cell_type": "markdown",
   "id": "dfa436d0",
   "metadata": {},
   "source": [
    "# Web Scraping Project\n",
    "\n",
    "In this project, we will try to scrape title, link, teaser, author and date information of articles from a news article website(https://www.searchenginejournal.com/category/news/) with 15 pages and put these informations into one data frame "
   ]
  },
  {
   "cell_type": "code",
   "execution_count": null,
   "id": "09e5cec8",
   "metadata": {},
   "outputs": [],
   "source": [
    "# Importing packages\n",
    "\n",
    "# The Requests package provide the ability to query a webpage’s HTML code via Python.\n",
    "\n",
    "# The BeautifulSoup is a Python package for parsing HTML and XML documents (including having malformed markup, i.e. non-closed tags, so named after tag soup). It creates a parse tree for parsed pages that can be used to extract data from HTML, which is useful for web scraping.\n",
    "\n",
    "import requests\n",
    "from bs4 import BeautifulSoup\n",
    "import pandas as pd"
   ]
  },
  {
   "cell_type": "code",
   "execution_count": 603,
   "id": "9379274f",
   "metadata": {},
   "outputs": [],
   "source": [
    "# Reading a website by using requests package\n",
    "page = requests.get('https://www.searchenginejournal.com/category/news/')"
   ]
  },
  {
   "cell_type": "code",
   "execution_count": 604,
   "id": "e42feab2",
   "metadata": {},
   "outputs": [],
   "source": [
    "# Creating a BeautifulSoup object for parsing HTML and XML documents\n",
    "soup = BeautifulSoup(page.text, 'html.parser')"
   ]
  },
  {
   "cell_type": "code",
   "execution_count": 605,
   "id": "a891a04f",
   "metadata": {
    "scrolled": true
   },
   "outputs": [],
   "source": [
    "# Selecting the titles by tag('a') and class('title-anchor')\n",
    "# The strip() method removes any leading, and trailing whitespaces.\n",
    "titles=[title.text.strip() for title in soup.find_all('a', class_=\"title-anchor\")]"
   ]
  },
  {
   "cell_type": "code",
   "execution_count": 606,
   "id": "217e7d70",
   "metadata": {
    "scrolled": true
   },
   "outputs": [
    {
     "data": {
      "text/plain": [
       "['OpenAI CEO Ouster: Sam Altman, Greg Brockman Post Statements',\n",
       " 'Google Presentation May Change How We Think About Ranking',\n",
       " 'Google Bard Updates Includes New Math And Data Visualization Features',\n",
       " 'Google Unwraps New AI Tools To Deck Your Holiday Shopping',\n",
       " 'Google’s Update Florida Offers Insights 20 Years Later',\n",
       " 'Bing Employs GPT-4 To Write Custom Search Snippets',\n",
       " 'Microsoft Copilot AI With Bing Will Use OpenAI GPTs And Plugins',\n",
       " 'Instagram Adds New Ways To Create Content',\n",
       " 'YouTube Creators Must Comply With New Rules For AI Content',\n",
       " 'OpenAI Pauses New Subscriptions And Upgrades To ChatGPT Plus',\n",
       " 'Google Launches “Notes” To Add User Comments In Search Results',\n",
       " 'Google Alters Search Rankings To Prioritize First-Hand Knowledge',\n",
       " 'Google Reveals Best & Worst Times For Holiday Travel',\n",
       " 'Google Maps Introduces New Ways To Plan Travel & Navigate',\n",
       " 'This Lawsuit Could Make Social Media Safer For Your Kids',\n",
       " 'Airbnb Acquires GamePlanner.AI To Accelerate AI Projects',\n",
       " 'Google Adds New Documentation For Mystery Crawler',\n",
       " 'Can AI Make Social Media Less Toxic? A Chatbot Study Shows Promise',\n",
       " 'Microsoft’s AI Ad Plans Revealed Through New App Deal',\n",
       " 'Google Proposes A Globalist Approach To AI Regulation',\n",
       " 'Google On Topical Authority: Don’t Worry About It',\n",
       " 'Google Announces New Structured Data For Educational Videos',\n",
       " 'Google Takes Legal Action Against AI Scammers & Copyright Fraud',\n",
       " 'Microsoft Advertising Updates: More Emails About Non-Compliant Ads',\n",
       " 'List Of 16 GPT SEO AI Tools Publicly Available Right Now',\n",
       " 'Custom GPTs: New Ways To Utilize ChatGPT For SEO & Marketing',\n",
       " 'Mullenweg Confirms Tumblr Failed But Not Closing',\n",
       " 'OpenAI Resolves Periodic ChatGPT And API Outages Caused By DDoS Attacks',\n",
       " 'Custom GPTs Now Available For All ChatGPT Plus, Enterprise Subscribers',\n",
       " 'OpenAI Seeks Open-Source, Private Datasets For Safe, Beneficial AGI']"
      ]
     },
     "execution_count": 606,
     "metadata": {},
     "output_type": "execute_result"
    }
   ],
   "source": [
    "titles"
   ]
  },
  {
   "cell_type": "code",
   "execution_count": 607,
   "id": "6b1180a4",
   "metadata": {},
   "outputs": [],
   "source": [
    "# Filtering and selecting the links by item.a['href'] , tag('h2') and class('h4 dark-link m-top-15 margin-bottom-0')\n",
    "link_lists=[link.find('a')['href'] for link in soup.find_all('h2', class_='h4 dark-link m-top-15 margin-bottom-0')]"
   ]
  },
  {
   "cell_type": "code",
   "execution_count": 608,
   "id": "779e655b",
   "metadata": {
    "scrolled": true
   },
   "outputs": [
    {
     "data": {
      "text/plain": [
       "['https://www.searchenginejournal.com/sam-altman-replaced-by-mira-murati-as-interim-ceo-at-openai/501582/',\n",
       " 'https://www.searchenginejournal.com/googles-danny-sullivan-presentation/501558/',\n",
       " 'https://www.searchenginejournal.com/google-bard-updates-includes-new-math-and-data-visualization-features/501524/',\n",
       " 'https://www.searchenginejournal.com/google-unwraps-new-ai-tools-to-deck-your-holiday-shopping/501507/',\n",
       " 'https://www.searchenginejournal.com/googles-update-florida-offers-insights-20-years-later/501482/',\n",
       " 'https://www.searchenginejournal.com/bing-employs-gpt-4-to-write-custom-search-snippets/501474/',\n",
       " 'https://www.searchenginejournal.com/microsoft-copilot-ai-with-bing-will-use-openai-gpts-and-plugins/501422/',\n",
       " 'https://www.searchenginejournal.com/instagram-adds-new-ways-to-create-content/501436/',\n",
       " 'https://www.searchenginejournal.com/youtube-creators-must-comply-with-new-rules-for-ai-content/501437/',\n",
       " 'https://www.searchenginejournal.com/openai-pauses-new-chatgpt-plus-subscriptions-due-to-surge-in-demand/501360/',\n",
       " 'https://www.searchenginejournal.com/google-launches-notes-to-add-user-comments-in-search-results/501414/',\n",
       " 'https://www.searchenginejournal.com/google-alters-search-rankings-to-prioritize-first-hand-knowledge/501404/',\n",
       " 'https://www.searchenginejournal.com/google-reveals-best-worst-times-for-holiday-travel/501400/',\n",
       " 'https://www.searchenginejournal.com/google-maps-introduces-new-ways-to-plan-travel-navigate/501396/',\n",
       " 'https://www.searchenginejournal.com/this-lawsuit-could-make-social-media-safer-for-your-kids/501342/',\n",
       " 'https://www.searchenginejournal.com/airbnb-acquires-gameplanner-ai-to-accelerate-ai-projects/501315/',\n",
       " 'https://www.searchenginejournal.com/google-adds-new-documentation-for-mystery-crawler/501332/',\n",
       " 'https://www.searchenginejournal.com/can-ai-make-social-media-less-toxic-a-chatbot-study-shows-promise/501314/',\n",
       " 'https://www.searchenginejournal.com/microsofts-ai-ad-plans-revealed-through-new-app-deal/501288/',\n",
       " 'https://www.searchenginejournal.com/google-proposes-a-globalist-approach-to-ai-regulation/501261/',\n",
       " 'https://www.searchenginejournal.com/google-on-topical-authority-dont-worry-about-it/501209/',\n",
       " 'https://www.searchenginejournal.com/google-announces-new-structured-data-for-educational-videos/501199/',\n",
       " 'https://www.searchenginejournal.com/google-takes-legal-action-against-ai-scammers-copyright-fraud/501182/',\n",
       " 'https://www.searchenginejournal.com/microsoft-advertising-updates-more-emails-about-non-compliant-ads/501178/',\n",
       " 'https://www.searchenginejournal.com/16-custom-gpt-seo-tools/501107/',\n",
       " 'https://www.searchenginejournal.com/custom-gpts-new-ways-to-utilize-chatgpt-for-seo-marketing/500579/',\n",
       " 'https://www.searchenginejournal.com/mullenweg-confirms-tumblr-failed-but-not-closing/501037/',\n",
       " 'https://www.searchenginejournal.com/chatgpt-down-openai-experiences-outages/500768/',\n",
       " 'https://www.searchenginejournal.com/custom-gpts-now-available-for-all-chatgpt-plus-enterprise-subscribers/501002/',\n",
       " 'https://www.searchenginejournal.com/openai-seeks-open-source-private-datasets-for-safe-beneficial-agi/500988/']"
      ]
     },
     "execution_count": 608,
     "metadata": {},
     "output_type": "execute_result"
    }
   ],
   "source": [
    "link_lists"
   ]
  },
  {
   "cell_type": "code",
   "execution_count": 609,
   "id": "f5315150",
   "metadata": {
    "scrolled": false
   },
   "outputs": [
    {
     "data": {
      "text/plain": [
       "['Explore the latest updates about OpenAI’s decision to remove Sam Altman as CEO, with Mira Murati stepping in as leader in the interim.',\n",
       " 'Danny Sullivan suggested in a presentation that Google’s published SEO guidance is not what we think it is',\n",
       " 'The arrival of Google Bard’s newest features for teens coincided with the launch of Common Sense Media’s AI ratings system to evaluate generative AI safety.',\n",
       " 'Google rolls out AI shopping tools to inspire gift ideas, visualize searches, and expand virtual try-on.',\n",
       " 'The legacy of Google’s Update Florida continues to influence how we do SEO 20 years later',\n",
       " 'Bing launches AI-powered captions for search results to provide more informative snippets and enhance the search experience.',\n",
       " 'Discover the new Copilot AI Companion with Bing, which will soon utilize OpenAI GPTs for customization and plugins to boost personal and professional productivity.',\n",
       " 'Instagram added new ways to find, edit and create content, filters for creatively expressing moods and better analytics for content performance',\n",
       " 'YouTube requires creators to label AI content and allows removal requests for deepfakes under new policies.',\n",
       " 'OpenAI pauses new ChatGPT Plus signups following a surge in usage after its DevDay conference, leading to frustration among free users and some developers.',\n",
       " 'Google introduces “Notes” feature in Search Labs to let users add comments and insights on search results.',\n",
       " 'Google announced changes to Search to prioritize content that demonstrates first-hand knowledge, and a new way to deliver personalized results.',\n",
       " 'Google reveals the best times and worst times for holiday travel and shopping using past data to avoid crowds.',\n",
       " 'Google Maps gets holiday travel boost with smarter transit, group planning, and community engagement features.',\n",
       " 'A social media lawsuit alleging harm to kids mostly advances despite objections from tech giants.',\n",
       " 'Discover how Airbnb’s acquisition of AI startup GamePlanner.AI, led by the co-founder of Siri, could transform the hospitality industry.',\n",
       " 'Google updated their documentation to add information about a mysterious crawler that was generally unknown',\n",
       " 'Can AI help foster healthier social media interactions? Here’s what researchers found after studying the interaction of 500 chatbots.',\n",
       " 'Microsoft partners with the Baidu keyboard app to bring personalized, AI-powered ads starting in 2024.',\n",
       " 'Google’s Opportunity Agenda proposes a globalist approach to AI regulation that doesn’t harm innovation',\n",
       " 'Google’s John Mueller on what to do about Topical Authority',\n",
       " 'Google introduces structured data markup for educational videos to enhance search and provide users more relevant results.',\n",
       " 'Google sues to stop AI and copyright scammers exploiting users and businesses.',\n",
       " 'Microsoft Advertising is sending increased policy violation email alerts to inform customers faster when ads or keywords are disapproved.',\n",
       " 'Check out these 16 AI SEO tools that are created by SEOs and publicly shared right now',\n",
       " 'Learn how to build a custom GPT, now available to all ChatGPT Plus users, and explore how they can be used for SEO and marketing.',\n",
       " 'Matt Mullenweg, CEO of Automattic confirmed that Tumblr failed to achieve a turnaround and will operate with reduced staffing',\n",
       " 'Delve into the recent developments surrounding a string of disruptions impacting users of OpenAI’s ChatGPT, API, Labs, and Playground services over the last 24 hours.',\n",
       " 'Explore OpenAI’s latest release of custom GPTs, now available to all ChatGPT Plus and Enterprise subscribers.',\n",
       " 'Learn more about OpenAI Data Partnerships and how partners can shape the future of AGI with open-source public and private datasets for AI training.']"
      ]
     },
     "execution_count": 609,
     "metadata": {},
     "output_type": "execute_result"
    }
   ],
   "source": [
    "# Filtering and selecting the teasers by tag('p') and class('sej-art-desc')\n",
    "teasers=[teaser.text.strip() for teaser in soup.find_all('p', class_='sej-art-desc')]\n",
    "teasers"
   ]
  },
  {
   "cell_type": "code",
   "execution_count": 610,
   "id": "8b5f91ba",
   "metadata": {
    "scrolled": true
   },
   "outputs": [
    {
     "data": {
      "text/plain": [
       "[' Kristi Hines',\n",
       " ' Roger Montti',\n",
       " ' Kristi Hines',\n",
       " ' Matt G. Southern',\n",
       " ' Roger Montti',\n",
       " ' Matt G. Southern',\n",
       " ' Kristi Hines',\n",
       " ' Roger Montti',\n",
       " ' Matt G. Southern',\n",
       " ' Kristi Hines',\n",
       " ' Matt G. Southern',\n",
       " ' Matt G. Southern',\n",
       " ' Matt G. Southern',\n",
       " ' Matt G. Southern',\n",
       " ' Matt G. Southern',\n",
       " ' Kristi Hines',\n",
       " ' Roger Montti',\n",
       " ' Matt G. Southern',\n",
       " ' Matt G. Southern',\n",
       " ' Roger Montti',\n",
       " ' Roger Montti',\n",
       " ' Matt G. Southern',\n",
       " ' Matt G. Southern',\n",
       " ' Matt G. Southern',\n",
       " ' Roger Montti',\n",
       " ' Kristi Hines',\n",
       " ' Roger Montti',\n",
       " ' Kristi Hines',\n",
       " ' Kristi Hines',\n",
       " ' Kristi Hines']"
      ]
     },
     "execution_count": 610,
     "metadata": {},
     "output_type": "execute_result"
    }
   ],
   "source": [
    "# Filtering and selecting the authors by tag('p') and class('sej-art-author')\n",
    "# The replace() method replaces a specified phrase with another specified phrase. Here we replace 'By' from authors.\n",
    "authors=[author.text.strip().replace('By','') for author in soup.find_all('p', class_='sej-art-author')]\n",
    "authors"
   ]
  },
  {
   "cell_type": "code",
   "execution_count": 611,
   "id": "6d311283",
   "metadata": {
    "scrolled": true
   },
   "outputs": [
    {
     "data": {
      "text/plain": [
       "['Nov 17, 2023',\n",
       " 'Nov 17, 2023',\n",
       " 'Nov 17, 2023',\n",
       " 'Nov 16, 2023',\n",
       " 'Nov 16, 2023',\n",
       " 'Nov 15, 2023',\n",
       " 'Nov 15, 2023',\n",
       " 'Nov 15, 2023',\n",
       " 'Nov 15, 2023',\n",
       " 'Nov 15, 2023',\n",
       " 'Nov 15, 2023',\n",
       " 'Nov 15, 2023',\n",
       " 'Nov 15, 2023',\n",
       " 'Nov 15, 2023',\n",
       " 'Nov 14, 2023',\n",
       " 'Nov 14, 2023',\n",
       " 'Nov 14, 2023',\n",
       " 'Nov 14, 2023',\n",
       " 'Nov 14, 2023',\n",
       " 'Nov 14, 2023',\n",
       " 'Nov 13, 2023',\n",
       " 'Nov 13, 2023',\n",
       " 'Nov 13, 2023',\n",
       " 'Nov 13, 2023',\n",
       " 'Nov 13, 2023',\n",
       " 'Nov 10, 2023',\n",
       " 'Nov 10, 2023',\n",
       " 'Nov 9, 2023',\n",
       " 'Nov 9, 2023',\n",
       " 'Nov 9, 2023']"
      ]
     },
     "execution_count": 611,
     "metadata": {},
     "output_type": "execute_result"
    }
   ],
   "source": [
    "# Filtering and selecting the dates by tag('span') and class('entrydate')\n",
    "PublishDates=[PublishDate.text.strip() for PublishDate in soup.find_all('span', class_='entrydate')]\n",
    "PublishDates"
   ]
  },
  {
   "cell_type": "code",
   "execution_count": 612,
   "id": "544a98af",
   "metadata": {},
   "outputs": [],
   "source": [
    "# Creating a function that gets a dataframe of one page\n",
    "def read_one_page(link):\n",
    "    print(link)\n",
    "    page = requests.get(link)\n",
    "    soup = BeautifulSoup(page.text, 'html.parser')\n",
    "    titles=[title.text.strip() for title in soup.find_all('a', class_=\"title-anchor\")]\n",
    "    link_lists=[link.find('a')['href'] for link in soup.find_all('h2', class_='h4 dark-link m-top-15 margin-bottom-0')]\n",
    "    teasers=[teaser.text.strip() for teaser in soup.find_all('p', class_='sej-art-desc')]\n",
    "    authors=[author.text.strip().replace('By','') for author in soup.find_all('p', class_='sej-art-author')]\n",
    "    PublishDates=[PublishDate.text for PublishDate in soup.find_all('span', class_='entrydate')]\n",
    "    df = pd.DataFrame({'title' :  titles, 'link' : link_lists, 'teaser' : teasers, 'author': authors, 'date': PublishDates})\n",
    "    return(df)"
   ]
  },
  {
   "cell_type": "code",
   "execution_count": 613,
   "id": "53341bfd",
   "metadata": {},
   "outputs": [
    {
     "data": {
      "text/plain": [
       "['https://www.searchenginejournal.com/category/news/',\n",
       " 'https://www.searchenginejournal.com/category/news/page/2/',\n",
       " 'https://www.searchenginejournal.com/category/news/page/3/',\n",
       " 'https://www.searchenginejournal.com/category/news/page/4/',\n",
       " 'https://www.searchenginejournal.com/category/news/page/5/',\n",
       " 'https://www.searchenginejournal.com/category/news/page/6/',\n",
       " 'https://www.searchenginejournal.com/category/news/page/7/',\n",
       " 'https://www.searchenginejournal.com/category/news/page/8/',\n",
       " 'https://www.searchenginejournal.com/category/news/page/9/',\n",
       " 'https://www.searchenginejournal.com/category/news/page/10/',\n",
       " 'https://www.searchenginejournal.com/category/news/page/11/',\n",
       " 'https://www.searchenginejournal.com/category/news/page/12/',\n",
       " 'https://www.searchenginejournal.com/category/news/page/13/',\n",
       " 'https://www.searchenginejournal.com/category/news/page/14/',\n",
       " 'https://www.searchenginejournal.com/category/news/page/15/']"
      ]
     },
     "execution_count": 613,
     "metadata": {},
     "output_type": "execute_result"
    }
   ],
   "source": [
    "# Creating the links of the all pages we want(lets say 15 pages)\n",
    "# https://www.searchenginejournal.com/category/news/\n",
    "# https://www.searchenginejournal.com/category/news/page/2/\n",
    "# https://www.searchenginejournal.com/category/news/page/3/\n",
    "\n",
    "all_page_links = ['https://www.searchenginejournal.com/category/news/']\n",
    "\n",
    "links = [f\"https://www.searchenginejournal.com/category/news/page/{k}/\" for k in range(2, 16)]\n",
    "\n",
    "# The extend() method adds the specified list elements (or any iterable) to the end of the current list.\n",
    "all_page_links.extend(links)\n",
    "\n",
    "all_page_links"
   ]
  },
  {
   "cell_type": "code",
   "execution_count": 614,
   "id": "94d2aa8f",
   "metadata": {
    "scrolled": true
   },
   "outputs": [
    {
     "name": "stdout",
     "output_type": "stream",
     "text": [
      "https://www.searchenginejournal.com/category/news/\n",
      "https://www.searchenginejournal.com/category/news/page/2/\n",
      "https://www.searchenginejournal.com/category/news/page/3/\n",
      "https://www.searchenginejournal.com/category/news/page/4/\n",
      "https://www.searchenginejournal.com/category/news/page/5/\n",
      "https://www.searchenginejournal.com/category/news/page/6/\n",
      "https://www.searchenginejournal.com/category/news/page/7/\n",
      "https://www.searchenginejournal.com/category/news/page/8/\n",
      "https://www.searchenginejournal.com/category/news/page/9/\n",
      "https://www.searchenginejournal.com/category/news/page/10/\n",
      "https://www.searchenginejournal.com/category/news/page/11/\n",
      "https://www.searchenginejournal.com/category/news/page/12/\n",
      "https://www.searchenginejournal.com/category/news/page/13/\n",
      "https://www.searchenginejournal.com/category/news/page/14/\n",
      "https://www.searchenginejournal.com/category/news/page/15/\n"
     ]
    }
   ],
   "source": [
    "# Mapping our function to our list\n",
    "# The map() function executes a specified function for each item in an iterable. The item is sent to the function as a parameter.\n",
    "list_of_dfs = list(map(read_one_page, all_page_links))"
   ]
  },
  {
   "cell_type": "code",
   "execution_count": 615,
   "id": "2fcc0775",
   "metadata": {},
   "outputs": [
    {
     "data": {
      "text/html": [
       "<div>\n",
       "<style scoped>\n",
       "    .dataframe tbody tr th:only-of-type {\n",
       "        vertical-align: middle;\n",
       "    }\n",
       "\n",
       "    .dataframe tbody tr th {\n",
       "        vertical-align: top;\n",
       "    }\n",
       "\n",
       "    .dataframe thead th {\n",
       "        text-align: right;\n",
       "    }\n",
       "</style>\n",
       "<table border=\"1\" class=\"dataframe\">\n",
       "  <thead>\n",
       "    <tr style=\"text-align: right;\">\n",
       "      <th></th>\n",
       "      <th>title</th>\n",
       "      <th>link</th>\n",
       "      <th>teaser</th>\n",
       "      <th>author</th>\n",
       "      <th>date</th>\n",
       "    </tr>\n",
       "  </thead>\n",
       "  <tbody>\n",
       "    <tr>\n",
       "      <th>0</th>\n",
       "      <td>OpenAI CEO Ouster: Sam Altman, Greg Brockman P...</td>\n",
       "      <td>https://www.searchenginejournal.com/sam-altman...</td>\n",
       "      <td>Explore the latest updates about OpenAI’s deci...</td>\n",
       "      <td>Kristi Hines</td>\n",
       "      <td>Nov 17, 2023</td>\n",
       "    </tr>\n",
       "    <tr>\n",
       "      <th>1</th>\n",
       "      <td>Google Presentation May Change How We Think Ab...</td>\n",
       "      <td>https://www.searchenginejournal.com/googles-da...</td>\n",
       "      <td>Danny Sullivan suggested in a presentation tha...</td>\n",
       "      <td>Roger Montti</td>\n",
       "      <td>Nov 17, 2023</td>\n",
       "    </tr>\n",
       "    <tr>\n",
       "      <th>2</th>\n",
       "      <td>Google Bard Updates Includes New Math And Data...</td>\n",
       "      <td>https://www.searchenginejournal.com/google-bar...</td>\n",
       "      <td>The arrival of Google Bard’s newest features f...</td>\n",
       "      <td>Kristi Hines</td>\n",
       "      <td>Nov 17, 2023</td>\n",
       "    </tr>\n",
       "    <tr>\n",
       "      <th>3</th>\n",
       "      <td>Google Unwraps New AI Tools To Deck Your Holid...</td>\n",
       "      <td>https://www.searchenginejournal.com/google-unw...</td>\n",
       "      <td>Google rolls out AI shopping tools to inspire ...</td>\n",
       "      <td>Matt G. Southern</td>\n",
       "      <td>Nov 16, 2023</td>\n",
       "    </tr>\n",
       "    <tr>\n",
       "      <th>4</th>\n",
       "      <td>Google’s Update Florida Offers Insights 20 Yea...</td>\n",
       "      <td>https://www.searchenginejournal.com/googles-up...</td>\n",
       "      <td>The legacy of Google’s Update Florida continue...</td>\n",
       "      <td>Roger Montti</td>\n",
       "      <td>Nov 16, 2023</td>\n",
       "    </tr>\n",
       "    <tr>\n",
       "      <th>...</th>\n",
       "      <td>...</td>\n",
       "      <td>...</td>\n",
       "      <td>...</td>\n",
       "      <td>...</td>\n",
       "      <td>...</td>\n",
       "    </tr>\n",
       "    <tr>\n",
       "      <th>445</th>\n",
       "      <td>Google Debunks The “Index Bloat” Theory</td>\n",
       "      <td>https://www.searchenginejournal.com/google-deb...</td>\n",
       "      <td>Google’s John Mueller debunks the “Index Bloat...</td>\n",
       "      <td>Matt G. Southern</td>\n",
       "      <td>Jun 8, 2023</td>\n",
       "    </tr>\n",
       "    <tr>\n",
       "      <th>446</th>\n",
       "      <td>How To Control Googlebot’s Interaction With Yo...</td>\n",
       "      <td>https://www.searchenginejournal.com/how-to-con...</td>\n",
       "      <td>Google’s Search Relations team provides insigh...</td>\n",
       "      <td>Matt G. Southern</td>\n",
       "      <td>Jun 8, 2023</td>\n",
       "    </tr>\n",
       "    <tr>\n",
       "      <th>447</th>\n",
       "      <td>WWDC 2023: How Apple Could Revolutionize The W...</td>\n",
       "      <td>https://www.searchenginejournal.com/wwdc-2023-...</td>\n",
       "      <td>Discover Apple’s latest innovations at WWDC 20...</td>\n",
       "      <td>Kristi Hines</td>\n",
       "      <td>Jun 8, 2023</td>\n",
       "    </tr>\n",
       "    <tr>\n",
       "      <th>448</th>\n",
       "      <td>Gmail Glitch Sending Newsletters To Spam, Mail...</td>\n",
       "      <td>https://www.searchenginejournal.com/gmail-glit...</td>\n",
       "      <td>An issue with Gmail is redirecting newsletters...</td>\n",
       "      <td>Matt G. Southern</td>\n",
       "      <td>Jun 8, 2023</td>\n",
       "    </tr>\n",
       "    <tr>\n",
       "      <th>449</th>\n",
       "      <td>Microsoft Store Ads Go Global &amp; New Features R...</td>\n",
       "      <td>https://www.searchenginejournal.com/microsoft-...</td>\n",
       "      <td>Microsoft Store Ads expands globally, introduc...</td>\n",
       "      <td>Matt G. Southern</td>\n",
       "      <td>Jun 8, 2023</td>\n",
       "    </tr>\n",
       "  </tbody>\n",
       "</table>\n",
       "<p>450 rows × 5 columns</p>\n",
       "</div>"
      ],
      "text/plain": [
       "                                                 title  \\\n",
       "0    OpenAI CEO Ouster: Sam Altman, Greg Brockman P...   \n",
       "1    Google Presentation May Change How We Think Ab...   \n",
       "2    Google Bard Updates Includes New Math And Data...   \n",
       "3    Google Unwraps New AI Tools To Deck Your Holid...   \n",
       "4    Google’s Update Florida Offers Insights 20 Yea...   \n",
       "..                                                 ...   \n",
       "445            Google Debunks The “Index Bloat” Theory   \n",
       "446  How To Control Googlebot’s Interaction With Yo...   \n",
       "447  WWDC 2023: How Apple Could Revolutionize The W...   \n",
       "448  Gmail Glitch Sending Newsletters To Spam, Mail...   \n",
       "449  Microsoft Store Ads Go Global & New Features R...   \n",
       "\n",
       "                                                  link  \\\n",
       "0    https://www.searchenginejournal.com/sam-altman...   \n",
       "1    https://www.searchenginejournal.com/googles-da...   \n",
       "2    https://www.searchenginejournal.com/google-bar...   \n",
       "3    https://www.searchenginejournal.com/google-unw...   \n",
       "4    https://www.searchenginejournal.com/googles-up...   \n",
       "..                                                 ...   \n",
       "445  https://www.searchenginejournal.com/google-deb...   \n",
       "446  https://www.searchenginejournal.com/how-to-con...   \n",
       "447  https://www.searchenginejournal.com/wwdc-2023-...   \n",
       "448  https://www.searchenginejournal.com/gmail-glit...   \n",
       "449  https://www.searchenginejournal.com/microsoft-...   \n",
       "\n",
       "                                                teaser             author  \\\n",
       "0    Explore the latest updates about OpenAI’s deci...       Kristi Hines   \n",
       "1    Danny Sullivan suggested in a presentation tha...       Roger Montti   \n",
       "2    The arrival of Google Bard’s newest features f...       Kristi Hines   \n",
       "3    Google rolls out AI shopping tools to inspire ...   Matt G. Southern   \n",
       "4    The legacy of Google’s Update Florida continue...       Roger Montti   \n",
       "..                                                 ...                ...   \n",
       "445  Google’s John Mueller debunks the “Index Bloat...   Matt G. Southern   \n",
       "446  Google’s Search Relations team provides insigh...   Matt G. Southern   \n",
       "447  Discover Apple’s latest innovations at WWDC 20...       Kristi Hines   \n",
       "448  An issue with Gmail is redirecting newsletters...   Matt G. Southern   \n",
       "449  Microsoft Store Ads expands globally, introduc...   Matt G. Southern   \n",
       "\n",
       "             date  \n",
       "0    Nov 17, 2023  \n",
       "1    Nov 17, 2023  \n",
       "2    Nov 17, 2023  \n",
       "3    Nov 16, 2023  \n",
       "4    Nov 16, 2023  \n",
       "..            ...  \n",
       "445   Jun 8, 2023  \n",
       "446   Jun 8, 2023  \n",
       "447   Jun 8, 2023  \n",
       "448   Jun 8, 2023  \n",
       "449   Jun 8, 2023  \n",
       "\n",
       "[450 rows x 5 columns]"
      ]
     },
     "execution_count": 615,
     "metadata": {},
     "output_type": "execute_result"
    }
   ],
   "source": [
    "# Combining all pages into one dataframe\n",
    "pd.concat(list_of_dfs, axis=\"rows\").reset_index(drop=True)"
   ]
  },
  {
   "cell_type": "code",
   "execution_count": null,
   "id": "35140e34",
   "metadata": {},
   "outputs": [],
   "source": []
  }
 ],
 "metadata": {
  "kernelspec": {
   "display_name": "Python 3 (ipykernel)",
   "language": "python",
   "name": "python3"
  },
  "language_info": {
   "codemirror_mode": {
    "name": "ipython",
    "version": 3
   },
   "file_extension": ".py",
   "mimetype": "text/x-python",
   "name": "python",
   "nbconvert_exporter": "python",
   "pygments_lexer": "ipython3",
   "version": "3.11.5"
  }
 },
 "nbformat": 4,
 "nbformat_minor": 5
}
